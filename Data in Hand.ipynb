{
 "cells": [
  {
   "cell_type": "markdown",
   "id": "99654c51",
   "metadata": {},
   "source": [
    "## Data Collection\n",
    "\n",
    "The data I was looking for this project was ideally going to be a single table that contained statistics on the winners of NCAA's March Madness tournament for the last 30ish years, however I wasn't able to find a comprehensive table like this. So in order to get a table like this that would work for my purposes, I realized I would have to create one on my own. So using the data provided from https://www.sports-reference.com/cbb/postseason/, I was able to get the data I needed on each team and compile it onto a single excel spreadsheet that I can then turn into a CSV to get into Jupyter notebook, where I can work on it with pandas. The data that I collected is statistics from each of the tournament winners dating back to 1987, because that is when the 3-point shot was introduced, which I think could be an important variable for predicting winners."
   ]
  }
 ],
 "metadata": {
  "kernelspec": {
   "display_name": "Python 3 (ipykernel)",
   "language": "python",
   "name": "python3"
  },
  "language_info": {
   "codemirror_mode": {
    "name": "ipython",
    "version": 3
   },
   "file_extension": ".py",
   "mimetype": "text/x-python",
   "name": "python",
   "nbconvert_exporter": "python",
   "pygments_lexer": "ipython3",
   "version": "3.9.6"
  }
 },
 "nbformat": 4,
 "nbformat_minor": 5
}
