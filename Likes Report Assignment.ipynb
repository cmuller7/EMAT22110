{
 "cells": [
  {
   "cell_type": "markdown",
   "id": "16974ad8",
   "metadata": {},
   "source": [
    "## Likes Report\n",
    " \n",
    "#### Calvin Muller\n",
    "#### September 20, 2021\n",
    "\n",
    "Here we are taking a look at my personal Instagram data, specifically a comprehensive list of every post that I have liked on Instagram. This amount of information and data can be a double-edged sword. On one hand, it can be incredibly useful, and lead to great insights both about psychology and even marketing strategies. However, it can just as easily be viewed as just a smorgasbord of random information, with no insights to anything.\n",
    "\n",
    "In order to make sense of this data, we need to first ask a few questions. First, where did this data come from? Who collected it? Could there be biases as a result of this collection method? While not knowing exactly who collected this data, it can be assumed that Instagram at one point created some sort of data collection method for all of their users, that records each interaction on its app and website, and stores these pieces of data -- where they make some available to every user, such as myself. The reason for collecting this data was most likely the reason for anything in the corporate world: money. Instagram likely uses this massive amount of data they get to sell to advertisers, so that they can more effectively promote products on the platform. We also have to question how reliable this data may be, given these assumptions. The data that is presented to us is most likely very reliable in its accuracy of recording the data presented, because Instagram would have set up algorithms that exactly extract this data without flaws. So we can trust that this data is accurate. However, I believe that this data might be unreliable in the sense that it likely does not give us the full picture. I am sure there are pieces and categories of data that Instagram holds back, and does not allow the public access to."
   ]
  },
  {
   "cell_type": "code",
   "execution_count": 1,
   "id": "90f98d9d",
   "metadata": {},
   "outputs": [],
   "source": [
    "import pandas as pd\n",
    "import json\n",
    "import matplotlib as plt"
   ]
  },
  {
   "cell_type": "code",
   "execution_count": 2,
   "id": "05a8e30d",
   "metadata": {},
   "outputs": [],
   "source": [
    "with open(r\"C:\\Users\\cjmul\\Downloads\\School\\Fall 2021\\EMAT 22110\\calvin.muller7_20210902\\likes\\liked_posts.json\") as j:\n",
    "    dat = json.load(j)"
   ]
  },
  {
   "cell_type": "markdown",
   "id": "d8ece87c",
   "metadata": {},
   "source": [
    "In the above cells, I am importing different packages to python, so that it will be able to read my code. I am also loading in the main json file that this data is stored in."
   ]
  },
  {
   "cell_type": "code",
   "execution_count": 3,
   "id": "d5bc9dd1",
   "metadata": {},
   "outputs": [
    {
     "data": {
      "text/plain": [
       "dict_keys(['likes_media_likes'])"
      ]
     },
     "execution_count": 3,
     "metadata": {},
     "output_type": "execute_result"
    }
   ],
   "source": [
    "dat.keys()"
   ]
  },
  {
   "cell_type": "code",
   "execution_count": null,
   "id": "412358af",
   "metadata": {},
   "outputs": [],
   "source": [
    "dat"
   ]
  },
  {
   "cell_type": "markdown",
   "id": "49dfae1a",
   "metadata": {},
   "source": [
    "In above cells, I am looking at the data I imported, labeled dat, and then am using the .keys() command to look at what keys are in this data."
   ]
  },
  {
   "cell_type": "code",
   "execution_count": 5,
   "id": "18fcdac0",
   "metadata": {},
   "outputs": [],
   "source": [
    "df_likes = pd.DataFrame(x['title'] for x in dat['likes_media_likes'])"
   ]
  },
  {
   "cell_type": "code",
   "execution_count": 6,
   "id": "266768b1",
   "metadata": {},
   "outputs": [
    {
     "data": {
      "text/html": [
       "<div>\n",
       "<style scoped>\n",
       "    .dataframe tbody tr th:only-of-type {\n",
       "        vertical-align: middle;\n",
       "    }\n",
       "\n",
       "    .dataframe tbody tr th {\n",
       "        vertical-align: top;\n",
       "    }\n",
       "\n",
       "    .dataframe thead th {\n",
       "        text-align: right;\n",
       "    }\n",
       "</style>\n",
       "<table border=\"1\" class=\"dataframe\">\n",
       "  <thead>\n",
       "    <tr style=\"text-align: right;\">\n",
       "      <th></th>\n",
       "      <th>0</th>\n",
       "    </tr>\n",
       "  </thead>\n",
       "  <tbody>\n",
       "    <tr>\n",
       "      <th>0</th>\n",
       "      <td>schoofsies</td>\n",
       "    </tr>\n",
       "    <tr>\n",
       "      <th>1</th>\n",
       "      <td>jordanjarc</td>\n",
       "    </tr>\n",
       "    <tr>\n",
       "      <th>2</th>\n",
       "      <td>frankiefrancescac</td>\n",
       "    </tr>\n",
       "    <tr>\n",
       "      <th>3</th>\n",
       "      <td>zrozler</td>\n",
       "    </tr>\n",
       "    <tr>\n",
       "      <th>4</th>\n",
       "      <td>adipotti</td>\n",
       "    </tr>\n",
       "    <tr>\n",
       "      <th>...</th>\n",
       "      <td>...</td>\n",
       "    </tr>\n",
       "    <tr>\n",
       "      <th>5306</th>\n",
       "      <td>dlofilm</td>\n",
       "    </tr>\n",
       "    <tr>\n",
       "      <th>5307</th>\n",
       "      <td>basketballdreamart</td>\n",
       "    </tr>\n",
       "    <tr>\n",
       "      <th>5308</th>\n",
       "      <td>irving11central</td>\n",
       "    </tr>\n",
       "    <tr>\n",
       "      <th>5309</th>\n",
       "      <td>kingljames</td>\n",
       "    </tr>\n",
       "    <tr>\n",
       "      <th>5310</th>\n",
       "      <td>hoopsline</td>\n",
       "    </tr>\n",
       "  </tbody>\n",
       "</table>\n",
       "<p>5311 rows × 1 columns</p>\n",
       "</div>"
      ],
      "text/plain": [
       "                       0\n",
       "0             schoofsies\n",
       "1             jordanjarc\n",
       "2      frankiefrancescac\n",
       "3                zrozler\n",
       "4               adipotti\n",
       "...                  ...\n",
       "5306             dlofilm\n",
       "5307  basketballdreamart\n",
       "5308     irving11central\n",
       "5309          kingljames\n",
       "5310           hoopsline\n",
       "\n",
       "[5311 rows x 1 columns]"
      ]
     },
     "execution_count": 6,
     "metadata": {},
     "output_type": "execute_result"
    }
   ],
   "source": [
    "df_likes"
   ]
  },
  {
   "cell_type": "markdown",
   "id": "b684462b",
   "metadata": {},
   "source": [
    "In the above cells, I paired the pandas DataFrame syntax with list comprehension, to make a dataframe that pulled out each instance of 'title' from the data inside of 'likes_media_likes'"
   ]
  },
  {
   "cell_type": "code",
   "execution_count": 7,
   "id": "fe200e23",
   "metadata": {},
   "outputs": [
    {
     "data": {
      "text/plain": [
       "list"
      ]
     },
     "execution_count": 7,
     "metadata": {},
     "output_type": "execute_result"
    }
   ],
   "source": [
    "type(dat['likes_media_likes'])"
   ]
  },
  {
   "cell_type": "code",
   "execution_count": 9,
   "id": "2bf6cab9",
   "metadata": {},
   "outputs": [
    {
     "data": {
      "text/plain": [
       "str"
      ]
     },
     "execution_count": 9,
     "metadata": {},
     "output_type": "execute_result"
    }
   ],
   "source": [
    "type('string_list_data')"
   ]
  },
  {
   "cell_type": "markdown",
   "id": "ad7a3f5e",
   "metadata": {},
   "source": [
    "In these above cells, I am looking at what types of data are both 'likes_media_likes' as well as 'string_list_data' this information can be helpful to me when using list comprehension."
   ]
  },
  {
   "cell_type": "code",
   "execution_count": 10,
   "id": "5af4f502",
   "metadata": {},
   "outputs": [
    {
     "data": {
      "text/plain": [
       "{'title': 'schoofsies',\n",
       " 'media_list_data': [],\n",
       " 'string_list_data': [{'href': 'https://www.instagram.com/p/BkqgokvBnsO/',\n",
       "   'value': 'ð\\x9f\\x91\\x8d',\n",
       "   'timestamp': 1530406044}]}"
      ]
     },
     "execution_count": 10,
     "metadata": {},
     "output_type": "execute_result"
    }
   ],
   "source": [
    "dat['likes_media_likes'][0]"
   ]
  },
  {
   "cell_type": "code",
   "execution_count": 38,
   "id": "31ca229a",
   "metadata": {},
   "outputs": [
    {
     "data": {
      "text/plain": [
       "dict"
      ]
     },
     "execution_count": 38,
     "metadata": {},
     "output_type": "execute_result"
    }
   ],
   "source": [
    "type(dat['likes_media_likes'][0])"
   ]
  },
  {
   "cell_type": "markdown",
   "id": "9ff9780f",
   "metadata": {},
   "source": [
    "In this cell above, I am looking at one instance inside the 'likes_media_likes' list to see what this dictionary looks like. I also wanted to confirm what type of structure this is."
   ]
  },
  {
   "cell_type": "code",
   "execution_count": 11,
   "id": "0d55d653",
   "metadata": {},
   "outputs": [],
   "source": [
    "test = pd.DataFrame(dat['likes_media_likes'])"
   ]
  },
  {
   "cell_type": "code",
   "execution_count": 12,
   "id": "58e11bb1",
   "metadata": {},
   "outputs": [
    {
     "data": {
      "text/html": [
       "<div>\n",
       "<style scoped>\n",
       "    .dataframe tbody tr th:only-of-type {\n",
       "        vertical-align: middle;\n",
       "    }\n",
       "\n",
       "    .dataframe tbody tr th {\n",
       "        vertical-align: top;\n",
       "    }\n",
       "\n",
       "    .dataframe thead th {\n",
       "        text-align: right;\n",
       "    }\n",
       "</style>\n",
       "<table border=\"1\" class=\"dataframe\">\n",
       "  <thead>\n",
       "    <tr style=\"text-align: right;\">\n",
       "      <th></th>\n",
       "      <th>title</th>\n",
       "      <th>media_list_data</th>\n",
       "      <th>string_list_data</th>\n",
       "    </tr>\n",
       "  </thead>\n",
       "  <tbody>\n",
       "    <tr>\n",
       "      <th>0</th>\n",
       "      <td>schoofsies</td>\n",
       "      <td>[]</td>\n",
       "      <td>[{'href': 'https://www.instagram.com/p/Bkqgokv...</td>\n",
       "    </tr>\n",
       "    <tr>\n",
       "      <th>1</th>\n",
       "      <td>jordanjarc</td>\n",
       "      <td>[]</td>\n",
       "      <td>[{'href': 'https://www.instagram.com/p/Bkp1Rr8...</td>\n",
       "    </tr>\n",
       "    <tr>\n",
       "      <th>2</th>\n",
       "      <td>frankiefrancescac</td>\n",
       "      <td>[]</td>\n",
       "      <td>[{'href': 'https://www.instagram.com/p/Bkn7U4_...</td>\n",
       "    </tr>\n",
       "    <tr>\n",
       "      <th>3</th>\n",
       "      <td>zrozler</td>\n",
       "      <td>[]</td>\n",
       "      <td>[{'href': 'https://www.instagram.com/p/BkoATQ6...</td>\n",
       "    </tr>\n",
       "    <tr>\n",
       "      <th>4</th>\n",
       "      <td>adipotti</td>\n",
       "      <td>[]</td>\n",
       "      <td>[{'href': 'https://www.instagram.com/p/Bknxh4C...</td>\n",
       "    </tr>\n",
       "    <tr>\n",
       "      <th>...</th>\n",
       "      <td>...</td>\n",
       "      <td>...</td>\n",
       "      <td>...</td>\n",
       "    </tr>\n",
       "    <tr>\n",
       "      <th>5306</th>\n",
       "      <td>dlofilm</td>\n",
       "      <td>[]</td>\n",
       "      <td>[{'href': 'https://www.instagram.com/p/CBoJDaD...</td>\n",
       "    </tr>\n",
       "    <tr>\n",
       "      <th>5307</th>\n",
       "      <td>basketballdreamart</td>\n",
       "      <td>[]</td>\n",
       "      <td>[{'href': 'https://www.instagram.com/p/CBX07Gu...</td>\n",
       "    </tr>\n",
       "    <tr>\n",
       "      <th>5308</th>\n",
       "      <td>irving11central</td>\n",
       "      <td>[]</td>\n",
       "      <td>[{'href': 'https://www.instagram.com/p/CBd411F...</td>\n",
       "    </tr>\n",
       "    <tr>\n",
       "      <th>5309</th>\n",
       "      <td>kingljames</td>\n",
       "      <td>[]</td>\n",
       "      <td>[{'href': 'https://www.instagram.com/p/CBNu_nn...</td>\n",
       "    </tr>\n",
       "    <tr>\n",
       "      <th>5310</th>\n",
       "      <td>hoopsline</td>\n",
       "      <td>[]</td>\n",
       "      <td>[{'href': 'https://www.instagram.com/p/CBjXoqN...</td>\n",
       "    </tr>\n",
       "  </tbody>\n",
       "</table>\n",
       "<p>5311 rows × 3 columns</p>\n",
       "</div>"
      ],
      "text/plain": [
       "                   title media_list_data  \\\n",
       "0             schoofsies              []   \n",
       "1             jordanjarc              []   \n",
       "2      frankiefrancescac              []   \n",
       "3                zrozler              []   \n",
       "4               adipotti              []   \n",
       "...                  ...             ...   \n",
       "5306             dlofilm              []   \n",
       "5307  basketballdreamart              []   \n",
       "5308     irving11central              []   \n",
       "5309          kingljames              []   \n",
       "5310           hoopsline              []   \n",
       "\n",
       "                                       string_list_data  \n",
       "0     [{'href': 'https://www.instagram.com/p/Bkqgokv...  \n",
       "1     [{'href': 'https://www.instagram.com/p/Bkp1Rr8...  \n",
       "2     [{'href': 'https://www.instagram.com/p/Bkn7U4_...  \n",
       "3     [{'href': 'https://www.instagram.com/p/BkoATQ6...  \n",
       "4     [{'href': 'https://www.instagram.com/p/Bknxh4C...  \n",
       "...                                                 ...  \n",
       "5306  [{'href': 'https://www.instagram.com/p/CBoJDaD...  \n",
       "5307  [{'href': 'https://www.instagram.com/p/CBX07Gu...  \n",
       "5308  [{'href': 'https://www.instagram.com/p/CBd411F...  \n",
       "5309  [{'href': 'https://www.instagram.com/p/CBNu_nn...  \n",
       "5310  [{'href': 'https://www.instagram.com/p/CBjXoqN...  \n",
       "\n",
       "[5311 rows x 3 columns]"
      ]
     },
     "execution_count": 12,
     "metadata": {},
     "output_type": "execute_result"
    }
   ],
   "source": [
    "test"
   ]
  },
  {
   "cell_type": "markdown",
   "id": "b851c7cd",
   "metadata": {},
   "source": [
    "In these above cells, I am making a dataframe with just the raw list that is 'likes_media_likes'. While this does give me a dataframe with 'title', which is helpful, it is still mostly unreadable because a lot of data is stored here under 'string_list_data'. In order to make this more readable I need to figure out a way to unpack that group of data."
   ]
  },
  {
   "cell_type": "code",
   "execution_count": 15,
   "id": "c805244c",
   "metadata": {},
   "outputs": [],
   "source": [
    "names = [x['string_list_data'] for x in dat['likes_media_likes']]"
   ]
  },
  {
   "cell_type": "code",
   "execution_count": null,
   "id": "83af86df",
   "metadata": {},
   "outputs": [],
   "source": [
    "names"
   ]
  },
  {
   "cell_type": "markdown",
   "id": "e5f74ead",
   "metadata": {},
   "source": [
    "In the above cells, I am using list comprehension to extract just 'string_list_data' from 'likes_media_likes', and what it shows me is that it is a list of a bunch of different lists."
   ]
  },
  {
   "cell_type": "code",
   "execution_count": 34,
   "id": "5646aa8e",
   "metadata": {},
   "outputs": [
    {
     "data": {
      "text/plain": [
       "{'href': 'https://www.instagram.com/p/BkqgokvBnsO/',\n",
       " 'value': 'ð\\x9f\\x91\\x8d',\n",
       " 'timestamp': 1530406044}"
      ]
     },
     "execution_count": 34,
     "metadata": {},
     "output_type": "execute_result"
    }
   ],
   "source": [
    "names[0][0]"
   ]
  },
  {
   "cell_type": "code",
   "execution_count": 18,
   "id": "e5a4c28b",
   "metadata": {},
   "outputs": [
    {
     "data": {
      "text/plain": [
       "list"
      ]
     },
     "execution_count": 18,
     "metadata": {},
     "output_type": "execute_result"
    }
   ],
   "source": [
    "type(names[0])"
   ]
  },
  {
   "cell_type": "code",
   "execution_count": 19,
   "id": "8af12c9c",
   "metadata": {
    "scrolled": true
   },
   "outputs": [
    {
     "ename": "AttributeError",
     "evalue": "'list' object has no attribute 'keys'",
     "output_type": "error",
     "traceback": [
      "\u001b[1;31m---------------------------------------------------------------------------\u001b[0m",
      "\u001b[1;31mAttributeError\u001b[0m                            Traceback (most recent call last)",
      "\u001b[1;32m~\\AppData\\Local\\Temp/ipykernel_19112/2665370939.py\u001b[0m in \u001b[0;36m<module>\u001b[1;34m\u001b[0m\n\u001b[1;32m----> 1\u001b[1;33m \u001b[0mnames\u001b[0m\u001b[1;33m.\u001b[0m\u001b[0mkeys\u001b[0m\u001b[1;33m(\u001b[0m\u001b[1;33m)\u001b[0m\u001b[1;33m\u001b[0m\u001b[1;33m\u001b[0m\u001b[0m\n\u001b[0m",
      "\u001b[1;31mAttributeError\u001b[0m: 'list' object has no attribute 'keys'"
     ]
    }
   ],
   "source": [
    "names.keys()"
   ]
  },
  {
   "cell_type": "markdown",
   "id": "2c05f337",
   "metadata": {},
   "source": [
    "In the above cells, I am doing multiple different things. For the bottom two, I am looking at what type of data structure 'names[0]' is, and it reveals that it is a list. However, in order to do list comprehension to get good data for a data frame, I need to be able to access the dictionaries inside those lists. That is why in the first line of code here, I looked at the zeroeth element of the zeroeth element of names. This allows me access to the dictionary. This took me many trials and errors to figure out, as I couldn't initially find how to get down to this second level of list. I kept running into different error codes, and would have to look at documentation as well as different forums to try and figure out. While the solution was much simpler than what I was searching for, it did give me good experience in troubleshooting code and being able to look for similar problems and solutions elsewhere online.\n",
    "\n",
    "I also looked to see if there were any keys in names, which there were not."
   ]
  },
  {
   "cell_type": "code",
   "execution_count": 28,
   "id": "9e952e13",
   "metadata": {},
   "outputs": [],
   "source": [
    "ts = [x[0] for x in names]"
   ]
  },
  {
   "cell_type": "code",
   "execution_count": null,
   "id": "bad20328",
   "metadata": {},
   "outputs": [],
   "source": [
    "ts"
   ]
  },
  {
   "cell_type": "code",
   "execution_count": 30,
   "id": "67422a3b",
   "metadata": {},
   "outputs": [],
   "source": [
    "tsDF = pd.DataFrame(ts)"
   ]
  },
  {
   "cell_type": "code",
   "execution_count": 32,
   "id": "14b0986c",
   "metadata": {},
   "outputs": [
    {
     "data": {
      "text/html": [
       "<div>\n",
       "<style scoped>\n",
       "    .dataframe tbody tr th:only-of-type {\n",
       "        vertical-align: middle;\n",
       "    }\n",
       "\n",
       "    .dataframe tbody tr th {\n",
       "        vertical-align: top;\n",
       "    }\n",
       "\n",
       "    .dataframe thead th {\n",
       "        text-align: right;\n",
       "    }\n",
       "</style>\n",
       "<table border=\"1\" class=\"dataframe\">\n",
       "  <thead>\n",
       "    <tr style=\"text-align: right;\">\n",
       "      <th></th>\n",
       "      <th>href</th>\n",
       "      <th>value</th>\n",
       "      <th>timestamp</th>\n",
       "    </tr>\n",
       "  </thead>\n",
       "  <tbody>\n",
       "    <tr>\n",
       "      <th>0</th>\n",
       "      <td>https://www.instagram.com/p/BkqgokvBnsO/</td>\n",
       "      <td>ð</td>\n",
       "      <td>1530406044</td>\n",
       "    </tr>\n",
       "    <tr>\n",
       "      <th>1</th>\n",
       "      <td>https://www.instagram.com/p/Bkp1Rr8F_KqQQme5xf...</td>\n",
       "      <td>ð</td>\n",
       "      <td>1530372550</td>\n",
       "    </tr>\n",
       "    <tr>\n",
       "      <th>2</th>\n",
       "      <td>https://www.instagram.com/p/Bkn7U4_l8pZyVqw9_l...</td>\n",
       "      <td>ð</td>\n",
       "      <td>1530316986</td>\n",
       "    </tr>\n",
       "    <tr>\n",
       "      <th>3</th>\n",
       "      <td>https://www.instagram.com/p/BkoATQ6lvqeBVuWJjF...</td>\n",
       "      <td>ð</td>\n",
       "      <td>1530312255</td>\n",
       "    </tr>\n",
       "    <tr>\n",
       "      <th>4</th>\n",
       "      <td>https://www.instagram.com/p/Bknxh4Cldxt/</td>\n",
       "      <td>ð</td>\n",
       "      <td>1530307294</td>\n",
       "    </tr>\n",
       "    <tr>\n",
       "      <th>...</th>\n",
       "      <td>...</td>\n",
       "      <td>...</td>\n",
       "      <td>...</td>\n",
       "    </tr>\n",
       "    <tr>\n",
       "      <th>5306</th>\n",
       "      <td>https://www.instagram.com/p/CBoJDaDls14/</td>\n",
       "      <td>ð</td>\n",
       "      <td>1592707282</td>\n",
       "    </tr>\n",
       "    <tr>\n",
       "      <th>5307</th>\n",
       "      <td>https://www.instagram.com/p/CBX07GulO62/</td>\n",
       "      <td>ð</td>\n",
       "      <td>1592707279</td>\n",
       "    </tr>\n",
       "    <tr>\n",
       "      <th>5308</th>\n",
       "      <td>https://www.instagram.com/p/CBd411FFyMS/</td>\n",
       "      <td>ð</td>\n",
       "      <td>1592707278</td>\n",
       "    </tr>\n",
       "    <tr>\n",
       "      <th>5309</th>\n",
       "      <td>https://www.instagram.com/p/CBNu_nnlYUR/</td>\n",
       "      <td>ð</td>\n",
       "      <td>1592707277</td>\n",
       "    </tr>\n",
       "    <tr>\n",
       "      <th>5310</th>\n",
       "      <td>https://www.instagram.com/p/CBjXoqNF-0x/</td>\n",
       "      <td>ð</td>\n",
       "      <td>1592707275</td>\n",
       "    </tr>\n",
       "  </tbody>\n",
       "</table>\n",
       "<p>5311 rows × 3 columns</p>\n",
       "</div>"
      ],
      "text/plain": [
       "                                                   href value   timestamp\n",
       "0              https://www.instagram.com/p/BkqgokvBnsO/  ð  1530406044\n",
       "1     https://www.instagram.com/p/Bkp1Rr8F_KqQQme5xf...  ð  1530372550\n",
       "2     https://www.instagram.com/p/Bkn7U4_l8pZyVqw9_l...  ð  1530316986\n",
       "3     https://www.instagram.com/p/BkoATQ6lvqeBVuWJjF...  ð  1530312255\n",
       "4              https://www.instagram.com/p/Bknxh4Cldxt/  ð  1530307294\n",
       "...                                                 ...   ...         ...\n",
       "5306           https://www.instagram.com/p/CBoJDaDls14/  ð  1592707282\n",
       "5307           https://www.instagram.com/p/CBX07GulO62/  ð  1592707279\n",
       "5308           https://www.instagram.com/p/CBd411FFyMS/  ð  1592707278\n",
       "5309           https://www.instagram.com/p/CBNu_nnlYUR/  ð  1592707277\n",
       "5310           https://www.instagram.com/p/CBjXoqNF-0x/  ð  1592707275\n",
       "\n",
       "[5311 rows x 3 columns]"
      ]
     },
     "execution_count": 32,
     "metadata": {},
     "output_type": "execute_result"
    }
   ],
   "source": [
    "tsDF"
   ]
  },
  {
   "cell_type": "markdown",
   "id": "47d4a28f",
   "metadata": {},
   "source": [
    "In the above cells, I use list comprehension to get the list of dictionaries, which can then be converted into a sensible dataframe. However, I don't stop there, as I also want to add in the 'title' category into this dataframe."
   ]
  },
  {
   "cell_type": "code",
   "execution_count": 35,
   "id": "a6bae3d4",
   "metadata": {},
   "outputs": [],
   "source": [
    "tsDF['title'] = test['title']"
   ]
  },
  {
   "cell_type": "code",
   "execution_count": 36,
   "id": "d6385bec",
   "metadata": {},
   "outputs": [
    {
     "data": {
      "text/html": [
       "<div>\n",
       "<style scoped>\n",
       "    .dataframe tbody tr th:only-of-type {\n",
       "        vertical-align: middle;\n",
       "    }\n",
       "\n",
       "    .dataframe tbody tr th {\n",
       "        vertical-align: top;\n",
       "    }\n",
       "\n",
       "    .dataframe thead th {\n",
       "        text-align: right;\n",
       "    }\n",
       "</style>\n",
       "<table border=\"1\" class=\"dataframe\">\n",
       "  <thead>\n",
       "    <tr style=\"text-align: right;\">\n",
       "      <th></th>\n",
       "      <th>href</th>\n",
       "      <th>value</th>\n",
       "      <th>timestamp</th>\n",
       "      <th>title</th>\n",
       "    </tr>\n",
       "  </thead>\n",
       "  <tbody>\n",
       "    <tr>\n",
       "      <th>0</th>\n",
       "      <td>https://www.instagram.com/p/BkqgokvBnsO/</td>\n",
       "      <td>ð</td>\n",
       "      <td>1530406044</td>\n",
       "      <td>schoofsies</td>\n",
       "    </tr>\n",
       "    <tr>\n",
       "      <th>1</th>\n",
       "      <td>https://www.instagram.com/p/Bkp1Rr8F_KqQQme5xf...</td>\n",
       "      <td>ð</td>\n",
       "      <td>1530372550</td>\n",
       "      <td>jordanjarc</td>\n",
       "    </tr>\n",
       "    <tr>\n",
       "      <th>2</th>\n",
       "      <td>https://www.instagram.com/p/Bkn7U4_l8pZyVqw9_l...</td>\n",
       "      <td>ð</td>\n",
       "      <td>1530316986</td>\n",
       "      <td>frankiefrancescac</td>\n",
       "    </tr>\n",
       "    <tr>\n",
       "      <th>3</th>\n",
       "      <td>https://www.instagram.com/p/BkoATQ6lvqeBVuWJjF...</td>\n",
       "      <td>ð</td>\n",
       "      <td>1530312255</td>\n",
       "      <td>zrozler</td>\n",
       "    </tr>\n",
       "    <tr>\n",
       "      <th>4</th>\n",
       "      <td>https://www.instagram.com/p/Bknxh4Cldxt/</td>\n",
       "      <td>ð</td>\n",
       "      <td>1530307294</td>\n",
       "      <td>adipotti</td>\n",
       "    </tr>\n",
       "    <tr>\n",
       "      <th>...</th>\n",
       "      <td>...</td>\n",
       "      <td>...</td>\n",
       "      <td>...</td>\n",
       "      <td>...</td>\n",
       "    </tr>\n",
       "    <tr>\n",
       "      <th>5306</th>\n",
       "      <td>https://www.instagram.com/p/CBoJDaDls14/</td>\n",
       "      <td>ð</td>\n",
       "      <td>1592707282</td>\n",
       "      <td>dlofilm</td>\n",
       "    </tr>\n",
       "    <tr>\n",
       "      <th>5307</th>\n",
       "      <td>https://www.instagram.com/p/CBX07GulO62/</td>\n",
       "      <td>ð</td>\n",
       "      <td>1592707279</td>\n",
       "      <td>basketballdreamart</td>\n",
       "    </tr>\n",
       "    <tr>\n",
       "      <th>5308</th>\n",
       "      <td>https://www.instagram.com/p/CBd411FFyMS/</td>\n",
       "      <td>ð</td>\n",
       "      <td>1592707278</td>\n",
       "      <td>irving11central</td>\n",
       "    </tr>\n",
       "    <tr>\n",
       "      <th>5309</th>\n",
       "      <td>https://www.instagram.com/p/CBNu_nnlYUR/</td>\n",
       "      <td>ð</td>\n",
       "      <td>1592707277</td>\n",
       "      <td>kingljames</td>\n",
       "    </tr>\n",
       "    <tr>\n",
       "      <th>5310</th>\n",
       "      <td>https://www.instagram.com/p/CBjXoqNF-0x/</td>\n",
       "      <td>ð</td>\n",
       "      <td>1592707275</td>\n",
       "      <td>hoopsline</td>\n",
       "    </tr>\n",
       "  </tbody>\n",
       "</table>\n",
       "<p>5311 rows × 4 columns</p>\n",
       "</div>"
      ],
      "text/plain": [
       "                                                   href value   timestamp  \\\n",
       "0              https://www.instagram.com/p/BkqgokvBnsO/  ð  1530406044   \n",
       "1     https://www.instagram.com/p/Bkp1Rr8F_KqQQme5xf...  ð  1530372550   \n",
       "2     https://www.instagram.com/p/Bkn7U4_l8pZyVqw9_l...  ð  1530316986   \n",
       "3     https://www.instagram.com/p/BkoATQ6lvqeBVuWJjF...  ð  1530312255   \n",
       "4              https://www.instagram.com/p/Bknxh4Cldxt/  ð  1530307294   \n",
       "...                                                 ...   ...         ...   \n",
       "5306           https://www.instagram.com/p/CBoJDaDls14/  ð  1592707282   \n",
       "5307           https://www.instagram.com/p/CBX07GulO62/  ð  1592707279   \n",
       "5308           https://www.instagram.com/p/CBd411FFyMS/  ð  1592707278   \n",
       "5309           https://www.instagram.com/p/CBNu_nnlYUR/  ð  1592707277   \n",
       "5310           https://www.instagram.com/p/CBjXoqNF-0x/  ð  1592707275   \n",
       "\n",
       "                   title  \n",
       "0             schoofsies  \n",
       "1             jordanjarc  \n",
       "2      frankiefrancescac  \n",
       "3                zrozler  \n",
       "4               adipotti  \n",
       "...                  ...  \n",
       "5306             dlofilm  \n",
       "5307  basketballdreamart  \n",
       "5308     irving11central  \n",
       "5309          kingljames  \n",
       "5310           hoopsline  \n",
       "\n",
       "[5311 rows x 4 columns]"
      ]
     },
     "execution_count": 36,
     "metadata": {},
     "output_type": "execute_result"
    }
   ],
   "source": [
    "tsDF"
   ]
  },
  {
   "cell_type": "markdown",
   "id": "b47d963d",
   "metadata": {},
   "source": [
    "Here, I am finally adding the 'title' from my test dataframe to the dataframe I have just made, which gives me a good dataframe including the data that I want."
   ]
  },
  {
   "cell_type": "code",
   "execution_count": 57,
   "id": "cfd69def",
   "metadata": {},
   "outputs": [
    {
     "data": {
      "text/html": [
       "<div>\n",
       "<style scoped>\n",
       "    .dataframe tbody tr th:only-of-type {\n",
       "        vertical-align: middle;\n",
       "    }\n",
       "\n",
       "    .dataframe tbody tr th {\n",
       "        vertical-align: top;\n",
       "    }\n",
       "\n",
       "    .dataframe thead th {\n",
       "        text-align: right;\n",
       "    }\n",
       "</style>\n",
       "<table border=\"1\" class=\"dataframe\">\n",
       "  <thead>\n",
       "    <tr style=\"text-align: right;\">\n",
       "      <th></th>\n",
       "      <th>href</th>\n",
       "      <th>value</th>\n",
       "      <th>timestamp</th>\n",
       "    </tr>\n",
       "    <tr>\n",
       "      <th>title</th>\n",
       "      <th></th>\n",
       "      <th></th>\n",
       "      <th></th>\n",
       "    </tr>\n",
       "  </thead>\n",
       "  <tbody>\n",
       "    <tr>\n",
       "      <th>21savage</th>\n",
       "      <td>11</td>\n",
       "      <td>11</td>\n",
       "      <td>11</td>\n",
       "    </tr>\n",
       "    <tr>\n",
       "      <th>2kmemes</th>\n",
       "      <td>1</td>\n",
       "      <td>1</td>\n",
       "      <td>1</td>\n",
       "    </tr>\n",
       "    <tr>\n",
       "      <th>2sportsclips</th>\n",
       "      <td>1</td>\n",
       "      <td>1</td>\n",
       "      <td>1</td>\n",
       "    </tr>\n",
       "    <tr>\n",
       "      <th>99wokeboi</th>\n",
       "      <td>4</td>\n",
       "      <td>4</td>\n",
       "      <td>4</td>\n",
       "    </tr>\n",
       "    <tr>\n",
       "      <th>_.samurai_jack._</th>\n",
       "      <td>1</td>\n",
       "      <td>1</td>\n",
       "      <td>1</td>\n",
       "    </tr>\n",
       "    <tr>\n",
       "      <th>...</th>\n",
       "      <td>...</td>\n",
       "      <td>...</td>\n",
       "      <td>...</td>\n",
       "    </tr>\n",
       "    <tr>\n",
       "      <th>zack_carson</th>\n",
       "      <td>2</td>\n",
       "      <td>2</td>\n",
       "      <td>2</td>\n",
       "    </tr>\n",
       "    <tr>\n",
       "      <th>zendaya</th>\n",
       "      <td>1</td>\n",
       "      <td>1</td>\n",
       "      <td>1</td>\n",
       "    </tr>\n",
       "    <tr>\n",
       "      <th>zionheadlines</th>\n",
       "      <td>1</td>\n",
       "      <td>1</td>\n",
       "      <td>1</td>\n",
       "    </tr>\n",
       "    <tr>\n",
       "      <th>zionwilliamson</th>\n",
       "      <td>4</td>\n",
       "      <td>4</td>\n",
       "      <td>4</td>\n",
       "    </tr>\n",
       "    <tr>\n",
       "      <th>zrozler</th>\n",
       "      <td>45</td>\n",
       "      <td>45</td>\n",
       "      <td>45</td>\n",
       "    </tr>\n",
       "  </tbody>\n",
       "</table>\n",
       "<p>633 rows × 3 columns</p>\n",
       "</div>"
      ],
      "text/plain": [
       "                  href  value  timestamp\n",
       "title                                   \n",
       "21savage            11     11         11\n",
       "2kmemes              1      1          1\n",
       "2sportsclips         1      1          1\n",
       "99wokeboi            4      4          4\n",
       "_.samurai_jack._     1      1          1\n",
       "...                ...    ...        ...\n",
       "zack_carson          2      2          2\n",
       "zendaya              1      1          1\n",
       "zionheadlines        1      1          1\n",
       "zionwilliamson       4      4          4\n",
       "zrozler             45     45         45\n",
       "\n",
       "[633 rows x 3 columns]"
      ]
     },
     "execution_count": 57,
     "metadata": {},
     "output_type": "execute_result"
    }
   ],
   "source": [
    "tsDF.groupby(['title']).count()"
   ]
  },
  {
   "cell_type": "code",
   "execution_count": 62,
   "id": "41927330",
   "metadata": {},
   "outputs": [
    {
     "data": {
      "text/html": [
       "<div>\n",
       "<style scoped>\n",
       "    .dataframe tbody tr th:only-of-type {\n",
       "        vertical-align: middle;\n",
       "    }\n",
       "\n",
       "    .dataframe tbody tr th {\n",
       "        vertical-align: top;\n",
       "    }\n",
       "\n",
       "    .dataframe thead th {\n",
       "        text-align: right;\n",
       "    }\n",
       "</style>\n",
       "<table border=\"1\" class=\"dataframe\">\n",
       "  <thead>\n",
       "    <tr style=\"text-align: right;\">\n",
       "      <th></th>\n",
       "      <th>href</th>\n",
       "      <th>value</th>\n",
       "      <th>title</th>\n",
       "    </tr>\n",
       "    <tr>\n",
       "      <th>timestamp</th>\n",
       "      <th></th>\n",
       "      <th></th>\n",
       "      <th></th>\n",
       "    </tr>\n",
       "  </thead>\n",
       "  <tbody>\n",
       "    <tr>\n",
       "      <th>1513525748</th>\n",
       "      <td>https://www.instagram.com/p/BcgBvQphRlj/</td>\n",
       "      <td>ð</td>\n",
       "      <td>jenselter</td>\n",
       "    </tr>\n",
       "    <tr>\n",
       "      <th>1513525751</th>\n",
       "      <td>https://www.instagram.com/p/Bcqds--nyZG/</td>\n",
       "      <td>ð</td>\n",
       "      <td>jenselter</td>\n",
       "    </tr>\n",
       "    <tr>\n",
       "      <th>1513525882</th>\n",
       "      <td>https://www.instagram.com/p/BcyvpGjB7f9/</td>\n",
       "      <td>ð</td>\n",
       "      <td>itsbriittt_</td>\n",
       "    </tr>\n",
       "    <tr>\n",
       "      <th>1513526370</th>\n",
       "      <td>https://www.instagram.com/p/BcvkHzfB4wz/</td>\n",
       "      <td>ð</td>\n",
       "      <td>itsbriittt_</td>\n",
       "    </tr>\n",
       "    <tr>\n",
       "      <th>1514561564</th>\n",
       "      <td>https://www.instagram.com/p/BdRPJvLA05i/</td>\n",
       "      <td>ð</td>\n",
       "      <td>lauraivetteg</td>\n",
       "    </tr>\n",
       "    <tr>\n",
       "      <th>...</th>\n",
       "      <td>...</td>\n",
       "      <td>...</td>\n",
       "      <td>...</td>\n",
       "    </tr>\n",
       "    <tr>\n",
       "      <th>1630362226</th>\n",
       "      <td>https://www.instagram.com/p/CTNq3p_FWBgC6UHKa_...</td>\n",
       "      <td>ð</td>\n",
       "      <td>zrozler</td>\n",
       "    </tr>\n",
       "    <tr>\n",
       "      <th>1630420729</th>\n",
       "      <td>https://www.instagram.com/p/CTON2vmIacdyhS0Lzu...</td>\n",
       "      <td>ð</td>\n",
       "      <td>jordanjarc</td>\n",
       "    </tr>\n",
       "    <tr>\n",
       "      <th>1630420989</th>\n",
       "      <td>https://www.instagram.com/p/CTOscW-r0cO/</td>\n",
       "      <td>ð</td>\n",
       "      <td>jingzhiyong</td>\n",
       "    </tr>\n",
       "    <tr>\n",
       "      <th>1630510499</th>\n",
       "      <td>https://www.instagram.com/p/CTP_LaylyTe/</td>\n",
       "      <td>ð</td>\n",
       "      <td>amia_muller</td>\n",
       "    </tr>\n",
       "    <tr>\n",
       "      <th>1630514738</th>\n",
       "      <td>https://www.instagram.com/p/CTQp72qh7fB/</td>\n",
       "      <td>ð</td>\n",
       "      <td>flash_garrett</td>\n",
       "    </tr>\n",
       "  </tbody>\n",
       "</table>\n",
       "<p>5309 rows × 3 columns</p>\n",
       "</div>"
      ],
      "text/plain": [
       "                                                         href value  \\\n",
       "timestamp                                                             \n",
       "1513525748           https://www.instagram.com/p/BcgBvQphRlj/  ð   \n",
       "1513525751           https://www.instagram.com/p/Bcqds--nyZG/  ð   \n",
       "1513525882           https://www.instagram.com/p/BcyvpGjB7f9/  ð   \n",
       "1513526370           https://www.instagram.com/p/BcvkHzfB4wz/  ð   \n",
       "1514561564           https://www.instagram.com/p/BdRPJvLA05i/  ð   \n",
       "...                                                       ...   ...   \n",
       "1630362226  https://www.instagram.com/p/CTNq3p_FWBgC6UHKa_...  ð   \n",
       "1630420729  https://www.instagram.com/p/CTON2vmIacdyhS0Lzu...  ð   \n",
       "1630420989           https://www.instagram.com/p/CTOscW-r0cO/  ð   \n",
       "1630510499           https://www.instagram.com/p/CTP_LaylyTe/  ð   \n",
       "1630514738           https://www.instagram.com/p/CTQp72qh7fB/  ð   \n",
       "\n",
       "                    title  \n",
       "timestamp                  \n",
       "1513525748      jenselter  \n",
       "1513525751      jenselter  \n",
       "1513525882    itsbriittt_  \n",
       "1513526370    itsbriittt_  \n",
       "1514561564   lauraivetteg  \n",
       "...                   ...  \n",
       "1630362226        zrozler  \n",
       "1630420729     jordanjarc  \n",
       "1630420989    jingzhiyong  \n",
       "1630510499    amia_muller  \n",
       "1630514738  flash_garrett  \n",
       "\n",
       "[5309 rows x 3 columns]"
      ]
     },
     "execution_count": 62,
     "metadata": {},
     "output_type": "execute_result"
    }
   ],
   "source": [
    "tsDF.groupby(['timestamp']).min()"
   ]
  },
  {
   "cell_type": "markdown",
   "id": "239a1d1d",
   "metadata": {},
   "source": [
    "In the first cell above, I am grouping all of the unique 'title's' together, which are different users, and it is showing how many of that user's posts I have liked. In the second cell above, I am trying to use a new method to sort the data by the minimum timestamp, which should show the oldest pictures I liked first."
   ]
  },
  {
   "cell_type": "markdown",
   "id": "6c121a85",
   "metadata": {},
   "source": [
    "## A hypothesis regarding Instagram data\n",
    "\n",
    "My theoretical hypothesis regarding this likes data, given other data files that Instagram provides is this: the users that I most interact with (like their posts), share more common topics with me (according to Instagram's topics data), and there is a strong correlation between similar topics and interaction with posts. I believe that one could make a predictive model between percentage of shared topics and percentages of posts liked. This would indicate that shared topics is something that Instagram's algorithm takes into account when promoting different posts on a user's feed.\n",
    "\n",
    "The statistical hypothesis is this: with a 5 percent confidence level, we can predict that a user will interact 25% more with another user who shares at least 10% of common topics, according to Instagram's topic data.\n",
    "\n",
    "Obviously, while only having one account's topic data, this would be a hard hypothesis to test. However, in the ideal world, with all the data that Instagram has, we could easily look into other user's topic data to compare across accounts, to see if this correlation exists. And if it does, it could help tailor people's Instagram home pages to people with similar interests."
   ]
  }
 ],
 "metadata": {
  "kernelspec": {
   "display_name": "Python 3 (ipykernel)",
   "language": "python",
   "name": "python3"
  },
  "language_info": {
   "codemirror_mode": {
    "name": "ipython",
    "version": 3
   },
   "file_extension": ".py",
   "mimetype": "text/x-python",
   "name": "python",
   "nbconvert_exporter": "python",
   "pygments_lexer": "ipython3",
   "version": "3.9.6"
  }
 },
 "nbformat": 4,
 "nbformat_minor": 5
}
